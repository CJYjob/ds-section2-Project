{
  "nbformat": 4,
  "nbformat_minor": 0,
  "metadata": {
    "colab": {
      "provenance": [],
      "collapsed_sections": [],
      "include_colab_link": true
    },
    "kernelspec": {
      "name": "python3",
      "display_name": "Python 3"
    },
    "language_info": {
      "name": "python"
    }
  },
  "cells": [
    {
      "cell_type": "markdown",
      "metadata": {
        "id": "view-in-github",
        "colab_type": "text"
      },
      "source": [
        "<a href=\"https://colab.research.google.com/github/CJYjob/ds-section2-Project/blob/main/Section2_Project.ipynb\" target=\"_parent\"><img src=\"https://colab.research.google.com/assets/colab-badge.svg\" alt=\"Open In Colab\"/></a>"
      ]
    },
    {
      "cell_type": "markdown",
      "source": [
        "# 시장 지표 불러오기\n",
        "## 데이터를 불러와 파일로 저장 - 매번, 데이터를 불러오기엔 시간 소모가 큼.\n",
        "+ 코스피 지수 (kospi) : 날짜 / 종가 / 시가 / 고가 / 저가 / 거래량 / 변화율\n",
        "+ 코스닥 지수 (kosdaq) : 날짜 /종가 / 시가 / 고가 / 저가 / 거래량 / 변화율\n",
        "+ 다우 지수 (dow) : 날짜 /종가 / 시가 / 고가 / 저가 / 거래량 / 변화율\n",
        "+ 나스닥 지수 (nasdaq) : 날짜 /종가 / 시가 / 고가 / 저가 / 거래량 / 변화율\n",
        "+ sp500 지수 (sp500) : 날짜 /종가 / 시가 / 고가 / 저가 / 거래량 / 변화율\n",
        "+ 달러 원 환율 (UK) : 날짜 /종가 / 시가 / 고가 / 저가 / 거래량 / 변화율\n",
        "+ 유로 원 환율 (EK) : 날짜 /종가 / 시가 / 고가 / 저가 / 거래량 / 변화율\n",
        "+ 엔 원 환율 (JK) : 날짜 /종가 / 시가 / 고가 / 저가 / 거래량 / 변화율\n",
        "+ 위안 원 환율 (CK) : 날짜 /종가 / 시가 / 고가 / 저가 / 거래량 / 변화율\n",
        "   \n",
        "## 사용하지 않는 거래량, 변화율 칼럼을 제외하고 불러와서 사용."
      ],
      "metadata": {
        "id": "Ksx2F77Y7jaf"
      }
    },
    {
      "cell_type": "code",
      "source": [
        "# # 드라이브 연결시 사용\n",
        "# from google.colab import drive\n",
        "# drive.mount('/content/drive')"
      ],
      "metadata": {
        "id": "Gk4H9k006VAc"
      },
      "execution_count": null,
      "outputs": []
    },
    {
      "cell_type": "code",
      "execution_count": null,
      "metadata": {
        "id": "GWTeMJwvrCcy"
      },
      "outputs": [],
      "source": [
        "# # 런타임 재 연결시, 관련 설치\n",
        "# !pip install finance-datareader\n",
        "# !pip install pandas-datareader\n",
        "# !pip install category_encoders"
      ]
    },
    {
      "cell_type": "code",
      "source": [
        "# 데이터 핸들링\n",
        "import pandas as pd\n",
        "import FinanceDataReader as fdr\n",
        "import pandas_datareader as pdr\n",
        "import numpy as np\n",
        "import collections # numpy.float 올림, 내림 목적\n",
        "\n",
        "# 시각화\n",
        "import matplotlib.pyplot as plt\n",
        "import seaborn as sns\n",
        "\n",
        "# 사이킷런 - 데이터 셋 나누기\n",
        "from sklearn.model_selection import train_test_split\n",
        "\n",
        "# 사이킷런 - encoders & imputers\n",
        "from category_encoders import OrdinalEncoder\n",
        "from sklearn.impute import SimpleImputer \n",
        "\n",
        "# 사이킷런 - 파이프라인\n",
        "from sklearn.pipeline import make_pipeline\n",
        "\n",
        "# 사이킷런 - 학습모델\n",
        "from xgboost import XGBClassifier\n",
        "\n",
        "# 사이킷런 - 모델 평가 지표\n",
        "from sklearn.metrics import f1_score\n",
        "from sklearn.metrics import classification_report\n",
        "\n",
        "# pd 출력 옵션 조정\n",
        "pd.set_option('max_rows', None)\n",
        "pd.set_option('max_columns', None)"
      ],
      "metadata": {
        "id": "dzwO6Ga_rH8o"
      },
      "execution_count": null,
      "outputs": []
    },
    {
      "cell_type": "code",
      "source": [
        "# 시장 목록, 시장-심볼 딕셔너리 정의\n",
        "vars = ['kospi', 'kosdaq', 'dow', 'nasdaq', 'sp500', 'UK', 'EK', 'JK', 'CK']\n",
        "symbols = {'kospi' : 'KS11', \n",
        "           'kosdaq' : 'KQ11', \n",
        "           'dow' : 'DJI', \n",
        "           'nasdaq' : 'IXIC', \n",
        "           'sp500' : 'US500', \n",
        "           'UK' : 'USD/KRW',\n",
        "           'EK' : 'EUR/KRW',\n",
        "           'JK' : 'JPY/KRW',\n",
        "           'CK' : 'CNY/KRW'\n",
        "           }"
      ],
      "metadata": {
        "id": "tQBDXjJ5-N50"
      },
      "execution_count": null,
      "outputs": []
    },
    {
      "cell_type": "code",
      "source": [
        "# # 데이터 파일로 저장 : 아직 데이터를 받지 않았을 때 사용 \n",
        "# # quandl api를 통한 현물 가격 지표 가져와야할 가능성 있음.\n",
        "# for i in symbols : \n",
        "#   fdr.DataReader(symbols[i], '2000')[:'2022-8-31'].to_csv(f'/content/drive/MyDrive/Colab Notebooks/Codestates/Section 2/Section 2 Project/Data/{i}.csv')"
      ],
      "metadata": {
        "id": "BPfYasWP-kyh"
      },
      "execution_count": null,
      "outputs": []
    },
    {
      "cell_type": "code",
      "source": [
        "# 저장된 파일 불러오기\n",
        "#   사용하는 칼럼은 Date, Close, Open, High, Low\n",
        "kospi = pd.read_csv(f'/content/drive/MyDrive/Colab Notebooks/Codestates/Section 2/Section 2 Project/Data/kospi.csv', usecols=['Date', 'Close', 'Open', 'High', 'Low'], index_col=0)\n",
        "kosdaq = pd.read_csv(f'/content/drive/MyDrive/Colab Notebooks/Codestates/Section 2/Section 2 Project/Data/kosdaq.csv', usecols=['Date', 'Close', 'Open', 'High', 'Low'], index_col=0)\n",
        "dow = pd.read_csv(f'/content/drive/MyDrive/Colab Notebooks/Codestates/Section 2/Section 2 Project/Data/dow.csv', usecols=['Date', 'Close', 'Open', 'High', 'Low'], index_col=0)\n",
        "nasdaq = pd.read_csv(f'/content/drive/MyDrive/Colab Notebooks/Codestates/Section 2/Section 2 Project/Data/nasdaq.csv', usecols=['Date', 'Close', 'Open', 'High', 'Low'], index_col=0)\n",
        "sp500 = pd.read_csv(f'/content/drive/MyDrive/Colab Notebooks/Codestates/Section 2/Section 2 Project/Data/sp500.csv', usecols=['Date', 'Close', 'Open', 'High', 'Low'], index_col=0)\n",
        "UK = pd.read_csv(f'/content/drive/MyDrive/Colab Notebooks/Codestates/Section 2/Section 2 Project/Data/UK.csv', usecols=['Date', 'Close', 'Open', 'High', 'Low'], index_col=0)\n",
        "EK = pd.read_csv(f'/content/drive/MyDrive/Colab Notebooks/Codestates/Section 2/Section 2 Project/Data/EK.csv', usecols=['Date', 'Close', 'Open', 'High', 'Low'], index_col=0)\n",
        "JK = pd.read_csv(f'/content/drive/MyDrive/Colab Notebooks/Codestates/Section 2/Section 2 Project/Data/JK.csv', usecols=['Date', 'Close', 'Open', 'High', 'Low'], index_col=0)\n",
        "CK = pd.read_csv(f'/content/drive/MyDrive/Colab Notebooks/Codestates/Section 2/Section 2 Project/Data/CK.csv', usecols=['Date', 'Close', 'Open', 'High', 'Low'], index_col=0)\n",
        "dfs = [kospi, kosdaq, dow, nasdaq, sp500, UK, EK, JK, CK]"
      ],
      "metadata": {
        "id": "-K6UvSE-5dMP"
      },
      "execution_count": null,
      "outputs": []
    },
    {
      "cell_type": "markdown",
      "source": [
        "# 개별 종목 데이터 불러오기"
      ],
      "metadata": {
        "id": "V8ufWBVL6Zag"
      }
    },
    {
      "cell_type": "code",
      "source": [
        "# # 코스피 종목 코드\n",
        "# kospiCode = fdr.StockListing('KOSPI')"
      ],
      "metadata": {
        "id": "w8oBlrDOusDA"
      },
      "execution_count": null,
      "outputs": []
    },
    {
      "cell_type": "code",
      "source": [
        "# # 코스닥 종목 코드\n",
        "# kosdaqCode = fdr.StockListing('KOSDAQ')"
      ],
      "metadata": {
        "id": "guZIb4JZvFiv"
      },
      "execution_count": null,
      "outputs": []
    },
    {
      "cell_type": "code",
      "source": [
        "# # 삼성전자 주가 데이터\n",
        "# SamSungCode = kospiCode[kospiCode['Name'] == '삼성전자']['Symbol'].iloc[0]\n",
        "# SamSungStock = fdr.DataReader(SamSungCode)\n",
        "# SamSungStock.head(5), SamSungStock.tail(5)"
      ],
      "metadata": {
        "id": "b_w0-0c9vhg6"
      },
      "execution_count": null,
      "outputs": []
    },
    {
      "cell_type": "markdown",
      "source": [
        "# 데이터 전처리\n",
        "+ 이번 분석은 kospi/kosdaq에 대한 예측이 목적입니다. 그러므로, kospi와 kosdaq의 날짜를 기준으로, 다른 데이터들을 사용해야 하며, 이에 따른 널값이 생길 수 있습니다. ( kospi/kosdaq은 정보가 있으나, 다른 데이터에 정보가 없는 경우 null값이나 다른 수로 채워줍니다. 다른 데이터 정보는 있으나, kospi/kosdaq 정보가 없는 경우는 labeling이 불가능 하므로, 사용하지 않습니다.)"
      ],
      "metadata": {
        "id": "1cdmc0JfQcAr"
      }
    },
    {
      "cell_type": "code",
      "source": [
        "# 데이터 프레임들의 shape을 확인하기 위한 함수 정의\n",
        "def dfs_shape() :\n",
        "  for i in range(len(dfs)) :\n",
        "    print(f'{vars[i]} shape : {dfs[i].shape}')"
      ],
      "metadata": {
        "id": "JorFGENmCZvm"
      },
      "execution_count": null,
      "outputs": []
    },
    {
      "cell_type": "code",
      "source": [
        "# kospi와 다른 시장 지표들의 데이터 수집 일자가 같은지 확인하는 함수 정의\n",
        "def dfs_spec_date() :\n",
        "  for i in range(len(vars)) :\n",
        "    print(f\"{vars[i]}'s Date == kospi's Date : \", set(kospi.index)==set(dfs[i].index))"
      ],
      "metadata": {
        "id": "yQdAPsvw7Qiv"
      },
      "execution_count": null,
      "outputs": []
    },
    {
      "cell_type": "code",
      "source": [
        "dfs_shape()"
      ],
      "metadata": {
        "colab": {
          "base_uri": "https://localhost:8080/"
        },
        "id": "k91QuYluCt4m",
        "outputId": "c2017018-e0a0-4b26-bb5f-b3f2ceebcb37"
      },
      "execution_count": null,
      "outputs": [
        {
          "output_type": "stream",
          "name": "stdout",
          "text": [
            "kospi shape : (5597, 4)\n",
            "kosdaq shape : (5357, 4)\n",
            "dow shape : (5703, 4)\n",
            "nasdaq shape : (5703, 4)\n",
            "sp500 shape : (5703, 4)\n",
            "UK shape : (5909, 4)\n",
            "EK shape : (5910, 4)\n",
            "JK shape : (5908, 4)\n",
            "CK shape : (5908, 4)\n"
          ]
        }
      ]
    },
    {
      "cell_type": "code",
      "source": [
        "dfs_spec_date()"
      ],
      "metadata": {
        "colab": {
          "base_uri": "https://localhost:8080/"
        },
        "id": "9g2iwCStD9F9",
        "outputId": "ad67d4bf-fba4-4694-dfda-375139f0a4e8"
      },
      "execution_count": null,
      "outputs": [
        {
          "output_type": "stream",
          "name": "stdout",
          "text": [
            "kospi's Date == kospi's Date :  True\n",
            "kosdaq's Date == kospi's Date :  False\n",
            "dow's Date == kospi's Date :  False\n",
            "nasdaq's Date == kospi's Date :  False\n",
            "sp500's Date == kospi's Date :  False\n",
            "UK's Date == kospi's Date :  False\n",
            "EK's Date == kospi's Date :  False\n",
            "JK's Date == kospi's Date :  False\n",
            "CK's Date == kospi's Date :  False\n"
          ]
        }
      ]
    },
    {
      "cell_type": "code",
      "source": [
        "date = pd.merge(dfs[0], dfs[1], how='inner', on='Date').index"
      ],
      "metadata": {
        "id": "rGdGtOk-JtbQ"
      },
      "execution_count": null,
      "outputs": []
    },
    {
      "cell_type": "code",
      "source": [
        "# kospi, kosdaq 정보가 다 있는 날짜 외의 데이터를 제거\n",
        "for df in dfs :\n",
        "  for i in df.index :\n",
        "    if not(i in set(date)) :\n",
        "      df.drop(i, axis=0, inplace=True)"
      ],
      "metadata": {
        "id": "BLg0GnmD_TYJ"
      },
      "execution_count": null,
      "outputs": []
    },
    {
      "cell_type": "code",
      "source": [
        "dfs_shape()"
      ],
      "metadata": {
        "colab": {
          "base_uri": "https://localhost:8080/"
        },
        "id": "g2ZLikWbDOOZ",
        "outputId": "71e893d7-0591-4513-fae6-d5ca18fc8e4d"
      },
      "execution_count": null,
      "outputs": [
        {
          "output_type": "stream",
          "name": "stdout",
          "text": [
            "kospi shape : (5356, 4)\n",
            "kosdaq shape : (5356, 4)\n",
            "dow shape : (5189, 4)\n",
            "nasdaq shape : (5189, 4)\n",
            "sp500 shape : (5189, 4)\n",
            "UK shape : (5356, 4)\n",
            "EK shape : (5356, 4)\n",
            "JK shape : (5356, 4)\n",
            "CK shape : (5356, 4)\n"
          ]
        }
      ]
    },
    {
      "cell_type": "code",
      "source": [
        "dfs_spec_date()"
      ],
      "metadata": {
        "colab": {
          "base_uri": "https://localhost:8080/"
        },
        "id": "AYsFQ-89ECfD",
        "outputId": "9d430e34-abbb-4d68-cc6e-b5f421af5124"
      },
      "execution_count": null,
      "outputs": [
        {
          "output_type": "stream",
          "name": "stdout",
          "text": [
            "kospi's Date == kospi's Date :  True\n",
            "kosdaq's Date == kospi's Date :  True\n",
            "dow's Date == kospi's Date :  False\n",
            "nasdaq's Date == kospi's Date :  False\n",
            "sp500's Date == kospi's Date :  False\n",
            "UK's Date == kospi's Date :  True\n",
            "EK's Date == kospi's Date :  True\n",
            "JK's Date == kospi's Date :  True\n",
            "CK's Date == kospi's Date :  True\n"
          ]
        }
      ]
    },
    {
      "cell_type": "code",
      "source": [
        "# kospi, kosdaq 의 정보가 있는 날짜의 데이터가 없는 지표는 NaN으로 채워줌\n",
        "for df in dfs[2:5] :\n",
        "  for date in kospi.index :\n",
        "    if not(date in df.index) :\n",
        "      df.loc[date] = [np.NaN,  np.NaN, np.NaN, np.NaN]\n",
        "  df.sort_index(axis=0, inplace=True)"
      ],
      "metadata": {
        "id": "RIPvbiPXEMyF"
      },
      "execution_count": null,
      "outputs": []
    },
    {
      "cell_type": "code",
      "source": [
        "dfs_spec_date()"
      ],
      "metadata": {
        "colab": {
          "base_uri": "https://localhost:8080/"
        },
        "id": "qsqXDLa7GawM",
        "outputId": "dce9df2a-1459-4148-a71f-e35764e70eb5"
      },
      "execution_count": null,
      "outputs": [
        {
          "output_type": "stream",
          "name": "stdout",
          "text": [
            "kospi's Date == kospi's Date :  True\n",
            "kosdaq's Date == kospi's Date :  True\n",
            "dow's Date == kospi's Date :  True\n",
            "nasdaq's Date == kospi's Date :  True\n",
            "sp500's Date == kospi's Date :  True\n",
            "UK's Date == kospi's Date :  True\n",
            "EK's Date == kospi's Date :  True\n",
            "JK's Date == kospi's Date :  True\n",
            "CK's Date == kospi's Date :  True\n"
          ]
        }
      ]
    },
    {
      "cell_type": "code",
      "source": [
        "# 새로 추가한 Null 행은 총 36개 입니다.\n",
        "for df in dfs[2:5] :\n",
        "  print(df.isnull().sum())"
      ],
      "metadata": {
        "colab": {
          "base_uri": "https://localhost:8080/"
        },
        "id": "BE_BzaM4MGNm",
        "outputId": "b1349972-57ba-41dc-a881-4c870a18f060"
      },
      "execution_count": null,
      "outputs": [
        {
          "output_type": "stream",
          "name": "stdout",
          "text": [
            "Close    167\n",
            "Open     167\n",
            "High     167\n",
            "Low      167\n",
            "dtype: int64\n",
            "Close    167\n",
            "Open     167\n",
            "High     167\n",
            "Low      167\n",
            "dtype: int64\n",
            "Close    167\n",
            "Open     167\n",
            "High     167\n",
            "Low      167\n",
            "dtype: int64\n"
          ]
        }
      ]
    },
    {
      "cell_type": "code",
      "source": [
        "# Null 행의 값을 이전 행의 값으로 채웁니다.\n",
        "# (시계열 데이터이기 때문에, 바로 앞의 데이터로 대체하는 것이 적합)\n",
        "for df in dfs[2:5] :\n",
        "  df.fillna(method='ffill', inplace=True)"
      ],
      "metadata": {
        "id": "gTYhoElrHAnO"
      },
      "execution_count": null,
      "outputs": []
    },
    {
      "cell_type": "code",
      "source": [
        "# null값이 연속으로 존재하는 행이 없어, 바로 Null행의 처리가 끝남.\n",
        "for df in dfs[2:5] :\n",
        "  print(df.isnull().sum())"
      ],
      "metadata": {
        "colab": {
          "base_uri": "https://localhost:8080/"
        },
        "id": "CXoO4XGELA7T",
        "outputId": "16695b6e-d3c0-48a9-9c83-c375c686d8a0"
      },
      "execution_count": null,
      "outputs": [
        {
          "output_type": "stream",
          "name": "stdout",
          "text": [
            "Close    0\n",
            "Open     0\n",
            "High     0\n",
            "Low      0\n",
            "dtype: int64\n",
            "Close    0\n",
            "Open     0\n",
            "High     0\n",
            "Low      0\n",
            "dtype: int64\n",
            "Close    0\n",
            "Open     0\n",
            "High     0\n",
            "Low      0\n",
            "dtype: int64\n"
          ]
        }
      ]
    },
    {
      "cell_type": "markdown",
      "source": [
        "## 시계열 데이터\n",
        "+ 이번에 활용할 분석 방법들은, 시계열성이 없는 데이터를 분석하는 방법들로 주어진 데이터에 적용이 어렵습니다.\n",
        "+ 따라서 시간의 흐름에서 나타나는 반복성을 통해 범주형 데이터로 변환해 줌으로써 데이터의 시간축을 제거하고자 합니다.(반복성)\n",
        "+ 또는 동일 시점에서의 데이터를 활용함으로써 시간축을 제거할 수 있습니다.(시점)\n",
        "+ 마지막으로, 일정 기간의 데이터를 묶어 하나의 기준으로 계산해줌으로서, 특정 시점의 비교 기준으로 만들어 줍니다.(반복성, 시점)\n",
        "  + slide window : 시간을 연결 데이터 값으로 대체(기준 마련.)"
      ],
      "metadata": {
        "id": "pBpHyjYLZswK"
      }
    },
    {
      "cell_type": "markdown",
      "source": [
        "### 반복성, 범주형 - 달에 따른 구분 (Month)\n",
        "+ 매년 3월은 투자자들이 조심스러워 지는 달입니다. 회사들의 재무제표가 공개되고, 재평가가 이루어지면서, 그동안 발생했던 오차들이 수정되는 기간이기 때문입니다. 자신의 판단이 어떤 방향으로 어느정도의 오차를 갖느냐에 따라, 수익과 손실이 결정되고, 그 금액도 편차를 달리하게 됩니다.\n",
        "+ 계절에 따라 사람들의 행동양식이 바뀌면, 시장의 수익구조도 변화합니다. 동시에 이에 따른 투자 양샹도 달라질 것이라 추측할 수 있습니다. 달의 구분은 계절의 변화를 어느정도 반영할 것입니다.\n",
        "+ 투자자들이 예측을 어려워 하는 '네 마녀의 날'이 있습니다. 매 분기마다, 4가지 파생상품의 만기일이 겹치면서, 주가의 변동성이 커지는 날입니다. 즉, 분기마다 투자자의 행동이 반복됩니다.\n",
        "+ 이처럼, 달을 기준으로 투자자들의 반복되는 행동을 반영하기 위해 Month 칼럼을 두어 명목형 데이터로 취급합니다.\n",
        "\n"
      ],
      "metadata": {
        "id": "_UNAcXRGZqJb"
      }
    },
    {
      "cell_type": "code",
      "source": [
        "# kospi 와 kosdaq 에 month 칼럼을 추가하는 함수 정의\n",
        "def add_month(df) :\n",
        "  df['Month'] = df.index.str[5:7]"
      ],
      "metadata": {
        "id": "_EXqieKGTdIS"
      },
      "execution_count": null,
      "outputs": []
    },
    {
      "cell_type": "code",
      "source": [
        "# kospi와 kosdaq에 month 칼럼 추가\n",
        "for i in range(len(df[:2])) :\n",
        "  add_month(dfs[i])"
      ],
      "metadata": {
        "id": "k_s7aS8KTm8B"
      },
      "execution_count": null,
      "outputs": []
    },
    {
      "cell_type": "markdown",
      "source": [
        "### 반복성, 범주형 - 주가의 흐름에 따른 구분"
      ],
      "metadata": {
        "id": "8YEgHo5tZ6Jt"
      }
    },
    {
      "cell_type": "markdown",
      "source": [
        "#### 추세\n",
        "+ 주가는 일반적으로 개별 주체의 행동 결과로 파동의 형태를 띄며, 추세를 따라 움직입니다.\n",
        "+ 일반적으로 상승 추세선은 저점을 연결해, 하락 추세선은 고점들을 연결해 결정합니다. 이때, 두 추세선의 기울기 부호 조합에 따라, 추세를 세분화 할 수 있습니다.\n",
        "+ 상승 추세 : 수렴, 발산, 평행 / 횡보 추세 : 수렴, 발산, 평행 / 하락 추세 : 수렴, 발산, 평행"
      ],
      "metadata": {
        "id": "e61QK9BlZ8FS"
      }
    },
    {
      "cell_type": "markdown",
      "source": [
        "\n",
        "![image.png](data:image/png;base64,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)\n",
        "\n"
      ],
      "metadata": {
        "id": "DEJCt_SFZa-N"
      }
    },
    {
      "cell_type": "code",
      "source": [
        "# 추세선은 시간과 주가를 축으로 그려집니다.\n",
        "# 시간축은 연산이 힘들기 때문에 단순한 수치형 데이터로 변환합니다.\n",
        "# 하루라는 일정한 단위로 나뉘므로, 단순한 정수 인덱스로 재배열 해도 무리가 없습니다.\n",
        "# (단, 기울기 계산이 필요함으로 1부터 인덱싱합니다.)"
      ],
      "metadata": {
        "id": "_POgXM9IyGR6"
      },
      "execution_count": null,
      "outputs": []
    },
    {
      "cell_type": "code",
      "source": [
        "# # 시간 인덱스 제거\n",
        "# kospi_line = kospi.reset_index(drop=True)\n",
        "# kospi_line.index = kospi_line.index+1"
      ],
      "metadata": {
        "id": "sTSkpycSzL4k"
      },
      "execution_count": null,
      "outputs": []
    },
    {
      "cell_type": "code",
      "source": [
        "# # 추세선을 긋기 위한 두 점 설정.\n",
        "\n",
        "# # 시점\n",
        "# start = kospi_line['Close'][1]\n",
        "# startX = 1\n",
        "\n",
        "# # 경유점\n",
        "# middle = kospi_line['Close'][2]\n",
        "# middleX = 2\n",
        "# middleSlope = (middle - start) / (middleX - startX)\n",
        "\n",
        "# # 종점\n",
        "# end = kospi_line['Close'][2]\n",
        "# endX = 2\n",
        "# endSlope = (end - start) / (endX - startX)"
      ],
      "metadata": {
        "id": "RjaEPpjKzdWt"
      },
      "execution_count": null,
      "outputs": []
    },
    {
      "cell_type": "code",
      "source": [
        "# # 추세 긋기\n",
        "# for i in range(2, len(kospi_line)+1) :\n",
        "#   if ((kospi_line['Close'][i] - start)) / (i - startX) > 0 :\n",
        "#     if ((end - startX) / (endX - startX) * 0.95) < ((kospi_line['Close'][i] - start) / (i - startX)) < ((end - startX) / (endX - startX)) :\n",
        "#       end = kospi_line['Close'][i]\n",
        "#       endX = i\n",
        "#   else :\n",
        "#     pass"
      ],
      "metadata": {
        "id": "aWq_wdfXznKe"
      },
      "execution_count": null,
      "outputs": []
    },
    {
      "cell_type": "code",
      "source": [
        "# # 시각화 \n",
        "# plt.plot(kospi_line['Close'])\n",
        "# plt.plot([startX, start], [end, endX] ,color=\"green\")\n",
        "# plt.scatter([startX, start], [endX, end])"
      ],
      "metadata": {
        "id": "ITmA3RO48FSE"
      },
      "execution_count": null,
      "outputs": []
    },
    {
      "cell_type": "markdown",
      "source": [
        "#### 지지와 저항\n",
        "+ 동일한 사건에 대한 사람의 행동은 어느정도 일반화가 가능합니다. 예를 들어, 화재가 난다면, 화재 장소에 있던 사람은 다른 변수가 있지 않은 이상 화재 장소에서 도망갈 것이라고 예측할 수 있습니다. 이는 화재에 대한 일반적인 인간의 반응이 정해져 있기 때문입니다.\n",
        "+ 이러한 경향은 주식시장에서도 관찰됩니다. 즉, 주가가 특정 기준선을 두고 움직임을 알 수 있습니다.\n",
        "  + 주가가 상승하거나 하락할 때, 사람들은 이전 주가의 최고점, 최저점, 주가가 오랫동안 머물럿던 지점을 기준으로 삼아 행동합니다. 때문에 주가가 계단식 흐름을 보이는 경우가 많습니다. 이때, 최고점, 최저점의 주가를 나타내는 선을 지지선 혹은 저항선이라 부릅니다.\n",
        "+ 지지와 저항의 각 스텝별로, 주가의 크기가 다르기 때문에, 순서형 범주데이터로 분류할 수 있습니다.\n"
      ],
      "metadata": {
        "id": "tqJsS9SuZ0sV"
      }
    },
    {
      "cell_type": "markdown",
      "source": [
        "![image.png](data:image/png;base64,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)\n"
      ],
      "metadata": {
        "id": "26hYQdRabW_u"
      }
    },
    {
      "cell_type": "code",
      "source": [
        "# # 일 주가의 모든 정수 범위 모음\n",
        "# # 범위에 존재하는 모든 정수를 갖도록 올림, 반올림\n",
        "# for i in range(len(kospi)) :\n",
        "#   if kospi['Open'].iloc[i] <= kospi['Close'].iloc[i] :\n",
        "#     top = np.floor(kospi['Close'][i])\n",
        "#     bottom = np.ceil(kospi['Open'][i])\n",
        "#   else :\n",
        "#     top = np.ceil(kospi['Open'][i])\n",
        "#     bottom = np.floor(kospi['Close'][i])"
      ],
      "metadata": {
        "id": "iYvKBGr2tatT"
      },
      "execution_count": null,
      "outputs": []
    },
    {
      "cell_type": "code",
      "source": [
        "# # 해당 범위에서 갖는 정수들을 셈.\n",
        "# # 추후 합쳐서, 주가가 지나간 횟수를 count하려고 함\n",
        "# x = collections.Counter(list(range(int(np.floor(kospi['Open'].iloc[0])), int(np.ceil(kospi['Close'].iloc[0])))))\n",
        "# y = collections.Counter(list(range(int(np.floor(kospi['Open'].iloc[20])), int(np.ceil(kospi['Close'].iloc[20])))))"
      ],
      "metadata": {
        "id": "fHQ4S6Y2shck"
      },
      "execution_count": null,
      "outputs": []
    },
    {
      "cell_type": "markdown",
      "source": [
        "#### 다우 이론\n",
        "주가 흐름 분석의 기준이 되는 이론으로, 주가의 움직임을 예측합니다. 구간 별로 주가의 움직임에 따라 사람들이 갖는 심리가 다르기 때문에 일정한 움직임을 보이게 됩니다."
      ],
      "metadata": {
        "id": "JMhjDRFfhwbH"
      }
    },
    {
      "cell_type": "markdown",
      "source": [
        "![image.png](data:image/png;base64,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)"
      ],
      "metadata": {
        "id": "hSukY2tXiPDz"
      }
    },
    {
      "cell_type": "markdown",
      "source": [
        "### 시점 비교\n"
      ],
      "metadata": {
        "id": "rmZHaUVOh15n"
      }
    },
    {
      "cell_type": "markdown",
      "source": [
        "#### 지수\n",
        "\n",
        "+ 세계 경제는 여러 변수를 바탕으로 연결되어 있습니다.\n",
        "+ 지수는 각 시장의 변수를 반영해 결정됩니다.\n",
        "+ 즉, 전세계 시장의 공통적인 변수들이 각 지수에 반영되기 때문에, 지수간에는 상관관계가 있을 수 있습니다. 때문에, 지수를 예측하기 위해 다른 지수들을 고려합니다."
      ],
      "metadata": {
        "id": "oU2lPyr9k1L-"
      }
    },
    {
      "cell_type": "markdown",
      "source": [
        "#### 환율\n",
        "\n",
        "+ 환율에 따라, 화폐로 표현한 가치는 다르게 평가됩니다. 시장의 가치역시 마찬가지 입니다.\n",
        "+ 때문에 시장 가치를 나타내는 지수는 환율의 영향을 받습니다."
      ],
      "metadata": {
        "id": "nA6CWUMGk20e"
      }
    },
    {
      "cell_type": "markdown",
      "source": [
        "#### 현물\n",
        "+ 금이나 석유 등 현물 가격도 결국 시장에 영향을 미치므로, 그 영향력을 고려 할 수 있습니다."
      ],
      "metadata": {
        "id": "hGICoYXM1rN3"
      }
    },
    {
      "cell_type": "markdown",
      "source": [
        "### 수치형 - 비교 기준 마련\n",
        "+ 시계열 데이터라도, 각 시점에서의 기준점을 계산해주면, 시간축을 무시할 수 있습니다."
      ],
      "metadata": {
        "id": "Dlh0Pm56mojx"
      }
    },
    {
      "cell_type": "markdown",
      "source": [
        "#### 전일 주가\n",
        "+ 전일의 주가 자체만으로는 큰 의미를 갖지 못합니다. 다음의 요소들과 동시에 고려하여, 주가가 어느 위치에서, 어느 방향으로, 얼마나 움직였는지는 오늘 주가의 방향 혹은 얼마나 이동할지를 예측하는데 도움을 줄 수 있습니다.\n",
        "+ 예를 들어, 추세선과 비교하여, 추세선 위에서 시작된 주가가, 추세선을 뚫고 내려가, 종가가 최저가가 되었다면, 시장 참여자의 심리와 장 마지막까지 유지된 하락의 모멘텀을 고려했을 때, 주가가 하락할 것이라고 예측할 수 있습니다."
      ],
      "metadata": {
        "id": "vSAwp_Ib3DiW"
      }
    },
    {
      "cell_type": "markdown",
      "source": [
        "#### 추세선\n",
        "시계열 데이터를 바탕으로 추세선을 계산해 주가의 비교 기준으로 삼습니다."
      ],
      "metadata": {
        "id": "Qplo9MzqniSy"
      }
    },
    {
      "cell_type": "markdown",
      "source": [
        "#### 지지,저항선\n",
        "시계열 데이터를 바탕으로 지지선, 저항선을 계산해 주가의 비교 기준으로 삼습니다."
      ],
      "metadata": {
        "id": "LESj2jiA2gEq"
      }
    },
    {
      "cell_type": "markdown",
      "source": [
        "#### 평균선(5, 20, 60, 120, 240)\n",
        "시계열 데이터를 바탕으로 5일(1주일), 20일(1개월), 60일(3개월), 120일(6개월), 240일(1년) 주가 평균을 계산해 주가의 비교 기준으로 삼습니다."
      ],
      "metadata": {
        "id": "-Vc9ZjeR2hSv"
      }
    },
    {
      "cell_type": "markdown",
      "source": [
        "#### 평균으로부터의 분산\n",
        "주가는 정책으로 인해, 단기간에 이전 주가들에서 크게 벗어나지 못합니다. 즉, 분산의 극단에 해당하는 주가는 점진적으로 분산의 중심에 해당하는 주가로 변화한다는 의미입니다. 따라서, 주가의 이동방향을 결정할 수 있습니다."
      ],
      "metadata": {
        "id": "56720PUd2rbe"
      }
    },
    {
      "cell_type": "markdown",
      "source": [
        "## 종목별 데이터\n",
        "+ 위의 분석 법들은 각 종목의 분석에도 사용될 수 있습니다."
      ],
      "metadata": {
        "id": "zlEMxZWg1ZNe"
      }
    },
    {
      "cell_type": "markdown",
      "source": [
        "## sliding window 기법\n",
        "+ 시계열 데이터를 처리하기 위해, 시간 인덱스를 이전 레코드의 value 값으로 대체한다."
      ],
      "metadata": {
        "id": "ySVoP-nJn6bE"
      }
    },
    {
      "cell_type": "markdown",
      "source": [
        "![image.png](data:image/png;base64,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)"
      ],
      "metadata": {
        "id": "jIjKaGiio1Qb"
      }
    },
    {
      "cell_type": "code",
      "source": [
        "kospi.head(5) ## 궁금한 점. slidingWindow 함수전의 칼럼은 5개"
      ],
      "metadata": {
        "colab": {
          "base_uri": "https://localhost:8080/",
          "height": 237
        },
        "id": "K3hrc6IPEmA6",
        "outputId": "8d98ee29-8750-45aa-92a2-de1a81420a01"
      },
      "execution_count": null,
      "outputs": [
        {
          "output_type": "execute_result",
          "data": {
            "text/plain": [
              "             Close    Open    High     Low Month\n",
              "Date                                            \n",
              "2001-01-02  520.95  503.31  521.34  500.97    01\n",
              "2001-01-03  521.43  512.74  524.58  510.70    01\n",
              "2001-01-04  558.02  551.53  567.16  550.91    01\n",
              "2001-01-05  580.85  559.54  581.41  555.40    01\n",
              "2001-01-08  586.65  573.72  587.91  572.48    01"
            ],
            "text/html": [
              "\n",
              "  <div id=\"df-98c00165-a89c-40ca-8d0d-0369ebb5700a\">\n",
              "    <div class=\"colab-df-container\">\n",
              "      <div>\n",
              "<style scoped>\n",
              "    .dataframe tbody tr th:only-of-type {\n",
              "        vertical-align: middle;\n",
              "    }\n",
              "\n",
              "    .dataframe tbody tr th {\n",
              "        vertical-align: top;\n",
              "    }\n",
              "\n",
              "    .dataframe thead th {\n",
              "        text-align: right;\n",
              "    }\n",
              "</style>\n",
              "<table border=\"1\" class=\"dataframe\">\n",
              "  <thead>\n",
              "    <tr style=\"text-align: right;\">\n",
              "      <th></th>\n",
              "      <th>Close</th>\n",
              "      <th>Open</th>\n",
              "      <th>High</th>\n",
              "      <th>Low</th>\n",
              "      <th>Month</th>\n",
              "    </tr>\n",
              "    <tr>\n",
              "      <th>Date</th>\n",
              "      <th></th>\n",
              "      <th></th>\n",
              "      <th></th>\n",
              "      <th></th>\n",
              "      <th></th>\n",
              "    </tr>\n",
              "  </thead>\n",
              "  <tbody>\n",
              "    <tr>\n",
              "      <th>2001-01-02</th>\n",
              "      <td>520.95</td>\n",
              "      <td>503.31</td>\n",
              "      <td>521.34</td>\n",
              "      <td>500.97</td>\n",
              "      <td>01</td>\n",
              "    </tr>\n",
              "    <tr>\n",
              "      <th>2001-01-03</th>\n",
              "      <td>521.43</td>\n",
              "      <td>512.74</td>\n",
              "      <td>524.58</td>\n",
              "      <td>510.70</td>\n",
              "      <td>01</td>\n",
              "    </tr>\n",
              "    <tr>\n",
              "      <th>2001-01-04</th>\n",
              "      <td>558.02</td>\n",
              "      <td>551.53</td>\n",
              "      <td>567.16</td>\n",
              "      <td>550.91</td>\n",
              "      <td>01</td>\n",
              "    </tr>\n",
              "    <tr>\n",
              "      <th>2001-01-05</th>\n",
              "      <td>580.85</td>\n",
              "      <td>559.54</td>\n",
              "      <td>581.41</td>\n",
              "      <td>555.40</td>\n",
              "      <td>01</td>\n",
              "    </tr>\n",
              "    <tr>\n",
              "      <th>2001-01-08</th>\n",
              "      <td>586.65</td>\n",
              "      <td>573.72</td>\n",
              "      <td>587.91</td>\n",
              "      <td>572.48</td>\n",
              "      <td>01</td>\n",
              "    </tr>\n",
              "  </tbody>\n",
              "</table>\n",
              "</div>\n",
              "      <button class=\"colab-df-convert\" onclick=\"convertToInteractive('df-98c00165-a89c-40ca-8d0d-0369ebb5700a')\"\n",
              "              title=\"Convert this dataframe to an interactive table.\"\n",
              "              style=\"display:none;\">\n",
              "        \n",
              "  <svg xmlns=\"http://www.w3.org/2000/svg\" height=\"24px\"viewBox=\"0 0 24 24\"\n",
              "       width=\"24px\">\n",
              "    <path d=\"M0 0h24v24H0V0z\" fill=\"none\"/>\n",
              "    <path d=\"M18.56 5.44l.94 2.06.94-2.06 2.06-.94-2.06-.94-.94-2.06-.94 2.06-2.06.94zm-11 1L8.5 8.5l.94-2.06 2.06-.94-2.06-.94L8.5 2.5l-.94 2.06-2.06.94zm10 10l.94 2.06.94-2.06 2.06-.94-2.06-.94-.94-2.06-.94 2.06-2.06.94z\"/><path d=\"M17.41 7.96l-1.37-1.37c-.4-.4-.92-.59-1.43-.59-.52 0-1.04.2-1.43.59L10.3 9.45l-7.72 7.72c-.78.78-.78 2.05 0 2.83L4 21.41c.39.39.9.59 1.41.59.51 0 1.02-.2 1.41-.59l7.78-7.78 2.81-2.81c.8-.78.8-2.07 0-2.86zM5.41 20L4 18.59l7.72-7.72 1.47 1.35L5.41 20z\"/>\n",
              "  </svg>\n",
              "      </button>\n",
              "      \n",
              "  <style>\n",
              "    .colab-df-container {\n",
              "      display:flex;\n",
              "      flex-wrap:wrap;\n",
              "      gap: 12px;\n",
              "    }\n",
              "\n",
              "    .colab-df-convert {\n",
              "      background-color: #E8F0FE;\n",
              "      border: none;\n",
              "      border-radius: 50%;\n",
              "      cursor: pointer;\n",
              "      display: none;\n",
              "      fill: #1967D2;\n",
              "      height: 32px;\n",
              "      padding: 0 0 0 0;\n",
              "      width: 32px;\n",
              "    }\n",
              "\n",
              "    .colab-df-convert:hover {\n",
              "      background-color: #E2EBFA;\n",
              "      box-shadow: 0px 1px 2px rgba(60, 64, 67, 0.3), 0px 1px 3px 1px rgba(60, 64, 67, 0.15);\n",
              "      fill: #174EA6;\n",
              "    }\n",
              "\n",
              "    [theme=dark] .colab-df-convert {\n",
              "      background-color: #3B4455;\n",
              "      fill: #D2E3FC;\n",
              "    }\n",
              "\n",
              "    [theme=dark] .colab-df-convert:hover {\n",
              "      background-color: #434B5C;\n",
              "      box-shadow: 0px 1px 3px 1px rgba(0, 0, 0, 0.15);\n",
              "      filter: drop-shadow(0px 1px 2px rgba(0, 0, 0, 0.3));\n",
              "      fill: #FFFFFF;\n",
              "    }\n",
              "  </style>\n",
              "\n",
              "      <script>\n",
              "        const buttonEl =\n",
              "          document.querySelector('#df-98c00165-a89c-40ca-8d0d-0369ebb5700a button.colab-df-convert');\n",
              "        buttonEl.style.display =\n",
              "          google.colab.kernel.accessAllowed ? 'block' : 'none';\n",
              "\n",
              "        async function convertToInteractive(key) {\n",
              "          const element = document.querySelector('#df-98c00165-a89c-40ca-8d0d-0369ebb5700a');\n",
              "          const dataTable =\n",
              "            await google.colab.kernel.invokeFunction('convertToInteractive',\n",
              "                                                     [key], {});\n",
              "          if (!dataTable) return;\n",
              "\n",
              "          const docLinkHtml = 'Like what you see? Visit the ' +\n",
              "            '<a target=\"_blank\" href=https://colab.research.google.com/notebooks/data_table.ipynb>data table notebook</a>'\n",
              "            + ' to learn more about interactive tables.';\n",
              "          element.innerHTML = '';\n",
              "          dataTable['output_type'] = 'display_data';\n",
              "          await google.colab.output.renderOutput(dataTable, element);\n",
              "          const docLink = document.createElement('div');\n",
              "          docLink.innerHTML = docLinkHtml;\n",
              "          element.appendChild(docLink);\n",
              "        }\n",
              "      </script>\n",
              "    </div>\n",
              "  </div>\n",
              "  "
            ]
          },
          "metadata": {},
          "execution_count": 816
        }
      ]
    },
    {
      "cell_type": "code",
      "source": [
        "# slide window 함수 정의\n",
        "#   전날의 종가, 지수, 환율 정보를 칼럼으로 추가 후\n",
        "#   레코드를 한줄씩 밀어내줌(때문에, 첫번째 레코드는 NaN값을 포함하므로 제거)\n",
        "#   레코드의 Close, Open, High, Low는 Label이 가능하며,\n",
        "#   추가된 칼럼들로 이를 예측 \n",
        "def slidingWindow(df) :\n",
        "  df['iDow'] = dfs[2]['Close']\n",
        "  df['iNasdaq'] = dfs[3]['Close']\n",
        "  df['iSP500'] = dfs[4]['Close']\n",
        "  df['iUK'] = dfs[5]['Close']\n",
        "  df['iEK'] = dfs[6]['Close']\n",
        "  df['iJK'] = dfs[7]['Close']\n",
        "  df['iCK'] = dfs[8]['Close']\n",
        "\n",
        "  df['iClose'] = df['Close'].shift(1)\n",
        "  df['iDow'] = df['iDow'].shift(1)\n",
        "  df['iNasdaq'] = df['iNasdaq'].shift(1)\n",
        "  df['iSP500'] = df['iSP500'].shift(1)\n",
        "  df['iUK'] = df['iUK'].shift(1)\n",
        "  df['iEK'] = df['iEK'].shift(1)\n",
        "  df['iJK'] = df['iJK'].shift(1)\n",
        "  df['iCK'] = df['iCK'].shift(1)\n",
        "\n",
        "  df = df[1:]\n",
        "  return df"
      ],
      "metadata": {
        "id": "8dHqKK5kn1Dy"
      },
      "execution_count": null,
      "outputs": []
    },
    {
      "cell_type": "code",
      "source": [
        "# kospi, kosdaq 에 slide window 적용\n",
        "for i in range(len(dfs[:2])) :\n",
        "  dfs[i] = slidingWindow(dfs[i])"
      ],
      "metadata": {
        "id": "hYc0VGoSpH0f"
      },
      "execution_count": null,
      "outputs": []
    },
    {
      "cell_type": "code",
      "source": [
        "kospi.head(5) # slidingWindow 함수 후에 칼럼 변화는 적용이 되는데, 왜 슬라이싱한건 결과에 반영이 안되지???"
      ],
      "metadata": {
        "colab": {
          "base_uri": "https://localhost:8080/",
          "height": 388
        },
        "id": "eRAACoOfD-8K",
        "outputId": "c3d56891-89d2-4f11-fbe8-2a3510545b40"
      },
      "execution_count": null,
      "outputs": [
        {
          "output_type": "execute_result",
          "data": {
            "text/plain": [
              "             Close    Open    High     Low Month      iDow  iNasdaq  iSP500  \\\n",
              "Date                                                                          \n",
              "2001-01-02  520.95  503.31  521.34  500.97    01       NaN      NaN     NaN   \n",
              "2001-01-03  521.43  512.74  524.58  510.70    01  10646.15  2291.86  1283.3   \n",
              "2001-01-04  558.02  551.53  567.16  550.91    01  10945.75  2616.69  1347.6   \n",
              "2001-01-05  580.85  559.54  581.41  555.40    01  10912.41  2566.83  1333.3   \n",
              "2001-01-08  586.65  573.72  587.91  572.48    01  10662.01  2407.65  1298.3   \n",
              "\n",
              "               iUK      iEK      iJK     iCK  iClose  \n",
              "Date                                                  \n",
              "2001-01-02     NaN      NaN      NaN     NaN     NaN  \n",
              "2001-01-03  1278.0  1213.78  11.1616  154.39  520.95  \n",
              "2001-01-04  1270.5  1179.15  11.1791  153.49  521.43  \n",
              "2001-01-05  1263.3  1199.57  10.9159  152.61  558.02  \n",
              "2001-01-08  1262.5  1209.47  10.8286  152.52  580.85  "
            ],
            "text/html": [
              "\n",
              "  <div id=\"df-7bf6e873-6189-4905-8549-01ec82ba5ea5\">\n",
              "    <div class=\"colab-df-container\">\n",
              "      <div>\n",
              "<style scoped>\n",
              "    .dataframe tbody tr th:only-of-type {\n",
              "        vertical-align: middle;\n",
              "    }\n",
              "\n",
              "    .dataframe tbody tr th {\n",
              "        vertical-align: top;\n",
              "    }\n",
              "\n",
              "    .dataframe thead th {\n",
              "        text-align: right;\n",
              "    }\n",
              "</style>\n",
              "<table border=\"1\" class=\"dataframe\">\n",
              "  <thead>\n",
              "    <tr style=\"text-align: right;\">\n",
              "      <th></th>\n",
              "      <th>Close</th>\n",
              "      <th>Open</th>\n",
              "      <th>High</th>\n",
              "      <th>Low</th>\n",
              "      <th>Month</th>\n",
              "      <th>iDow</th>\n",
              "      <th>iNasdaq</th>\n",
              "      <th>iSP500</th>\n",
              "      <th>iUK</th>\n",
              "      <th>iEK</th>\n",
              "      <th>iJK</th>\n",
              "      <th>iCK</th>\n",
              "      <th>iClose</th>\n",
              "    </tr>\n",
              "    <tr>\n",
              "      <th>Date</th>\n",
              "      <th></th>\n",
              "      <th></th>\n",
              "      <th></th>\n",
              "      <th></th>\n",
              "      <th></th>\n",
              "      <th></th>\n",
              "      <th></th>\n",
              "      <th></th>\n",
              "      <th></th>\n",
              "      <th></th>\n",
              "      <th></th>\n",
              "      <th></th>\n",
              "      <th></th>\n",
              "    </tr>\n",
              "  </thead>\n",
              "  <tbody>\n",
              "    <tr>\n",
              "      <th>2001-01-02</th>\n",
              "      <td>520.95</td>\n",
              "      <td>503.31</td>\n",
              "      <td>521.34</td>\n",
              "      <td>500.97</td>\n",
              "      <td>01</td>\n",
              "      <td>NaN</td>\n",
              "      <td>NaN</td>\n",
              "      <td>NaN</td>\n",
              "      <td>NaN</td>\n",
              "      <td>NaN</td>\n",
              "      <td>NaN</td>\n",
              "      <td>NaN</td>\n",
              "      <td>NaN</td>\n",
              "    </tr>\n",
              "    <tr>\n",
              "      <th>2001-01-03</th>\n",
              "      <td>521.43</td>\n",
              "      <td>512.74</td>\n",
              "      <td>524.58</td>\n",
              "      <td>510.70</td>\n",
              "      <td>01</td>\n",
              "      <td>10646.15</td>\n",
              "      <td>2291.86</td>\n",
              "      <td>1283.3</td>\n",
              "      <td>1278.0</td>\n",
              "      <td>1213.78</td>\n",
              "      <td>11.1616</td>\n",
              "      <td>154.39</td>\n",
              "      <td>520.95</td>\n",
              "    </tr>\n",
              "    <tr>\n",
              "      <th>2001-01-04</th>\n",
              "      <td>558.02</td>\n",
              "      <td>551.53</td>\n",
              "      <td>567.16</td>\n",
              "      <td>550.91</td>\n",
              "      <td>01</td>\n",
              "      <td>10945.75</td>\n",
              "      <td>2616.69</td>\n",
              "      <td>1347.6</td>\n",
              "      <td>1270.5</td>\n",
              "      <td>1179.15</td>\n",
              "      <td>11.1791</td>\n",
              "      <td>153.49</td>\n",
              "      <td>521.43</td>\n",
              "    </tr>\n",
              "    <tr>\n",
              "      <th>2001-01-05</th>\n",
              "      <td>580.85</td>\n",
              "      <td>559.54</td>\n",
              "      <td>581.41</td>\n",
              "      <td>555.40</td>\n",
              "      <td>01</td>\n",
              "      <td>10912.41</td>\n",
              "      <td>2566.83</td>\n",
              "      <td>1333.3</td>\n",
              "      <td>1263.3</td>\n",
              "      <td>1199.57</td>\n",
              "      <td>10.9159</td>\n",
              "      <td>152.61</td>\n",
              "      <td>558.02</td>\n",
              "    </tr>\n",
              "    <tr>\n",
              "      <th>2001-01-08</th>\n",
              "      <td>586.65</td>\n",
              "      <td>573.72</td>\n",
              "      <td>587.91</td>\n",
              "      <td>572.48</td>\n",
              "      <td>01</td>\n",
              "      <td>10662.01</td>\n",
              "      <td>2407.65</td>\n",
              "      <td>1298.3</td>\n",
              "      <td>1262.5</td>\n",
              "      <td>1209.47</td>\n",
              "      <td>10.8286</td>\n",
              "      <td>152.52</td>\n",
              "      <td>580.85</td>\n",
              "    </tr>\n",
              "  </tbody>\n",
              "</table>\n",
              "</div>\n",
              "      <button class=\"colab-df-convert\" onclick=\"convertToInteractive('df-7bf6e873-6189-4905-8549-01ec82ba5ea5')\"\n",
              "              title=\"Convert this dataframe to an interactive table.\"\n",
              "              style=\"display:none;\">\n",
              "        \n",
              "  <svg xmlns=\"http://www.w3.org/2000/svg\" height=\"24px\"viewBox=\"0 0 24 24\"\n",
              "       width=\"24px\">\n",
              "    <path d=\"M0 0h24v24H0V0z\" fill=\"none\"/>\n",
              "    <path d=\"M18.56 5.44l.94 2.06.94-2.06 2.06-.94-2.06-.94-.94-2.06-.94 2.06-2.06.94zm-11 1L8.5 8.5l.94-2.06 2.06-.94-2.06-.94L8.5 2.5l-.94 2.06-2.06.94zm10 10l.94 2.06.94-2.06 2.06-.94-2.06-.94-.94-2.06-.94 2.06-2.06.94z\"/><path d=\"M17.41 7.96l-1.37-1.37c-.4-.4-.92-.59-1.43-.59-.52 0-1.04.2-1.43.59L10.3 9.45l-7.72 7.72c-.78.78-.78 2.05 0 2.83L4 21.41c.39.39.9.59 1.41.59.51 0 1.02-.2 1.41-.59l7.78-7.78 2.81-2.81c.8-.78.8-2.07 0-2.86zM5.41 20L4 18.59l7.72-7.72 1.47 1.35L5.41 20z\"/>\n",
              "  </svg>\n",
              "      </button>\n",
              "      \n",
              "  <style>\n",
              "    .colab-df-container {\n",
              "      display:flex;\n",
              "      flex-wrap:wrap;\n",
              "      gap: 12px;\n",
              "    }\n",
              "\n",
              "    .colab-df-convert {\n",
              "      background-color: #E8F0FE;\n",
              "      border: none;\n",
              "      border-radius: 50%;\n",
              "      cursor: pointer;\n",
              "      display: none;\n",
              "      fill: #1967D2;\n",
              "      height: 32px;\n",
              "      padding: 0 0 0 0;\n",
              "      width: 32px;\n",
              "    }\n",
              "\n",
              "    .colab-df-convert:hover {\n",
              "      background-color: #E2EBFA;\n",
              "      box-shadow: 0px 1px 2px rgba(60, 64, 67, 0.3), 0px 1px 3px 1px rgba(60, 64, 67, 0.15);\n",
              "      fill: #174EA6;\n",
              "    }\n",
              "\n",
              "    [theme=dark] .colab-df-convert {\n",
              "      background-color: #3B4455;\n",
              "      fill: #D2E3FC;\n",
              "    }\n",
              "\n",
              "    [theme=dark] .colab-df-convert:hover {\n",
              "      background-color: #434B5C;\n",
              "      box-shadow: 0px 1px 3px 1px rgba(0, 0, 0, 0.15);\n",
              "      filter: drop-shadow(0px 1px 2px rgba(0, 0, 0, 0.3));\n",
              "      fill: #FFFFFF;\n",
              "    }\n",
              "  </style>\n",
              "\n",
              "      <script>\n",
              "        const buttonEl =\n",
              "          document.querySelector('#df-7bf6e873-6189-4905-8549-01ec82ba5ea5 button.colab-df-convert');\n",
              "        buttonEl.style.display =\n",
              "          google.colab.kernel.accessAllowed ? 'block' : 'none';\n",
              "\n",
              "        async function convertToInteractive(key) {\n",
              "          const element = document.querySelector('#df-7bf6e873-6189-4905-8549-01ec82ba5ea5');\n",
              "          const dataTable =\n",
              "            await google.colab.kernel.invokeFunction('convertToInteractive',\n",
              "                                                     [key], {});\n",
              "          if (!dataTable) return;\n",
              "\n",
              "          const docLinkHtml = 'Like what you see? Visit the ' +\n",
              "            '<a target=\"_blank\" href=https://colab.research.google.com/notebooks/data_table.ipynb>data table notebook</a>'\n",
              "            + ' to learn more about interactive tables.';\n",
              "          element.innerHTML = '';\n",
              "          dataTable['output_type'] = 'display_data';\n",
              "          await google.colab.output.renderOutput(dataTable, element);\n",
              "          const docLink = document.createElement('div');\n",
              "          docLink.innerHTML = docLinkHtml;\n",
              "          element.appendChild(docLink);\n",
              "        }\n",
              "      </script>\n",
              "    </div>\n",
              "  </div>\n",
              "  "
            ]
          },
          "metadata": {},
          "execution_count": 819
        }
      ]
    },
    {
      "cell_type": "markdown",
      "source": [
        "# 분류를 위한 라벨 추가"
      ],
      "metadata": {
        "id": "AH1wIfPM6vix"
      }
    },
    {
      "cell_type": "markdown",
      "source": [
        "당일 : Close - Open 값의 부호로, 라벨을 나눠줌."
      ],
      "metadata": {
        "id": "b0honEQj6yTa"
      }
    },
    {
      "cell_type": "code",
      "source": [
        "def CreateClassLabel(df) :\n",
        "  df['Class'] = df['Close'] - df['Open']\n",
        "  for i in range(len(df)) :\n",
        "    if df['Class'].iloc[i] > 0 :\n",
        "      df['Class'].iloc[i] = 1 # 당일 양봉을 의미\n",
        "    else :\n",
        "      df['Class'].iloc[i] = 0 # 당일 음봉, 보합을 의미(둘다 매매시 손해임으로 같이 분류)\n",
        "  return df"
      ],
      "metadata": {
        "id": "iTbxVIsI674C"
      },
      "execution_count": null,
      "outputs": []
    },
    {
      "cell_type": "code",
      "source": [
        "for i in range(len(dfs[:2])) :\n",
        "  dfs[i] = CreateClassLabel(dfs[i])"
      ],
      "metadata": {
        "colab": {
          "base_uri": "https://localhost:8080/"
        },
        "id": "9wDkHipc8ZyU",
        "outputId": "beaa1824-7b79-4d73-8a1a-8abdfff219a0"
      },
      "execution_count": null,
      "outputs": [
        {
          "output_type": "stream",
          "name": "stderr",
          "text": [
            "/usr/local/lib/python3.7/dist-packages/ipykernel_launcher.py:2: SettingWithCopyWarning: \n",
            "A value is trying to be set on a copy of a slice from a DataFrame.\n",
            "Try using .loc[row_indexer,col_indexer] = value instead\n",
            "\n",
            "See the caveats in the documentation: https://pandas.pydata.org/pandas-docs/stable/user_guide/indexing.html#returning-a-view-versus-a-copy\n",
            "  \n",
            "/usr/local/lib/python3.7/dist-packages/pandas/core/indexing.py:1732: SettingWithCopyWarning: \n",
            "A value is trying to be set on a copy of a slice from a DataFrame\n",
            "\n",
            "See the caveats in the documentation: https://pandas.pydata.org/pandas-docs/stable/user_guide/indexing.html#returning-a-view-versus-a-copy\n",
            "  self._setitem_single_block(indexer, value, name)\n"
          ]
        }
      ]
    },
    {
      "cell_type": "markdown",
      "source": [
        "# 머신러닝 적용"
      ],
      "metadata": {
        "id": "VZVJVm997b7R"
      }
    },
    {
      "cell_type": "code",
      "source": [
        "# feature set, target vector 설정\n",
        "target = 'Class'\n",
        "features = ['Month',\t'iDow',\t'iNasdaq',\t'iSP500', 'iUK',\t'iEK',\t'iJK',\t'iCK',\t'iClose']\n",
        "\n",
        "# train을 features & target으로 나눈다.\n",
        "y_train_p = dfs[0][target]\n",
        "X_train_p = dfs[0][features]\n",
        "y_train_d = dfs[1][target]\n",
        "X_train_d = dfs[1][features]"
      ],
      "metadata": {
        "id": "RgBrOowc91I-"
      },
      "execution_count": null,
      "outputs": []
    },
    {
      "cell_type": "code",
      "source": [
        "# features - object 컬럼(Month)의 cardinality 확인\n",
        "X_train_p.describe(exclude='number').T.sort_values(ascending=False, by='unique')"
      ],
      "metadata": {
        "colab": {
          "base_uri": "https://localhost:8080/",
          "height": 81
        },
        "id": "Q2hMJ5TDGQb4",
        "outputId": "8bd8d689-4926-4ed4-852c-41ef9b02d3d6"
      },
      "execution_count": null,
      "outputs": [
        {
          "output_type": "execute_result",
          "data": {
            "text/plain": [
              "      count unique top freq\n",
              "Month  5355     12  07  481"
            ],
            "text/html": [
              "\n",
              "  <div id=\"df-7bcaa550-75db-4837-9941-565ce6324889\">\n",
              "    <div class=\"colab-df-container\">\n",
              "      <div>\n",
              "<style scoped>\n",
              "    .dataframe tbody tr th:only-of-type {\n",
              "        vertical-align: middle;\n",
              "    }\n",
              "\n",
              "    .dataframe tbody tr th {\n",
              "        vertical-align: top;\n",
              "    }\n",
              "\n",
              "    .dataframe thead th {\n",
              "        text-align: right;\n",
              "    }\n",
              "</style>\n",
              "<table border=\"1\" class=\"dataframe\">\n",
              "  <thead>\n",
              "    <tr style=\"text-align: right;\">\n",
              "      <th></th>\n",
              "      <th>count</th>\n",
              "      <th>unique</th>\n",
              "      <th>top</th>\n",
              "      <th>freq</th>\n",
              "    </tr>\n",
              "  </thead>\n",
              "  <tbody>\n",
              "    <tr>\n",
              "      <th>Month</th>\n",
              "      <td>5355</td>\n",
              "      <td>12</td>\n",
              "      <td>07</td>\n",
              "      <td>481</td>\n",
              "    </tr>\n",
              "  </tbody>\n",
              "</table>\n",
              "</div>\n",
              "      <button class=\"colab-df-convert\" onclick=\"convertToInteractive('df-7bcaa550-75db-4837-9941-565ce6324889')\"\n",
              "              title=\"Convert this dataframe to an interactive table.\"\n",
              "              style=\"display:none;\">\n",
              "        \n",
              "  <svg xmlns=\"http://www.w3.org/2000/svg\" height=\"24px\"viewBox=\"0 0 24 24\"\n",
              "       width=\"24px\">\n",
              "    <path d=\"M0 0h24v24H0V0z\" fill=\"none\"/>\n",
              "    <path d=\"M18.56 5.44l.94 2.06.94-2.06 2.06-.94-2.06-.94-.94-2.06-.94 2.06-2.06.94zm-11 1L8.5 8.5l.94-2.06 2.06-.94-2.06-.94L8.5 2.5l-.94 2.06-2.06.94zm10 10l.94 2.06.94-2.06 2.06-.94-2.06-.94-.94-2.06-.94 2.06-2.06.94z\"/><path d=\"M17.41 7.96l-1.37-1.37c-.4-.4-.92-.59-1.43-.59-.52 0-1.04.2-1.43.59L10.3 9.45l-7.72 7.72c-.78.78-.78 2.05 0 2.83L4 21.41c.39.39.9.59 1.41.59.51 0 1.02-.2 1.41-.59l7.78-7.78 2.81-2.81c.8-.78.8-2.07 0-2.86zM5.41 20L4 18.59l7.72-7.72 1.47 1.35L5.41 20z\"/>\n",
              "  </svg>\n",
              "      </button>\n",
              "      \n",
              "  <style>\n",
              "    .colab-df-container {\n",
              "      display:flex;\n",
              "      flex-wrap:wrap;\n",
              "      gap: 12px;\n",
              "    }\n",
              "\n",
              "    .colab-df-convert {\n",
              "      background-color: #E8F0FE;\n",
              "      border: none;\n",
              "      border-radius: 50%;\n",
              "      cursor: pointer;\n",
              "      display: none;\n",
              "      fill: #1967D2;\n",
              "      height: 32px;\n",
              "      padding: 0 0 0 0;\n",
              "      width: 32px;\n",
              "    }\n",
              "\n",
              "    .colab-df-convert:hover {\n",
              "      background-color: #E2EBFA;\n",
              "      box-shadow: 0px 1px 2px rgba(60, 64, 67, 0.3), 0px 1px 3px 1px rgba(60, 64, 67, 0.15);\n",
              "      fill: #174EA6;\n",
              "    }\n",
              "\n",
              "    [theme=dark] .colab-df-convert {\n",
              "      background-color: #3B4455;\n",
              "      fill: #D2E3FC;\n",
              "    }\n",
              "\n",
              "    [theme=dark] .colab-df-convert:hover {\n",
              "      background-color: #434B5C;\n",
              "      box-shadow: 0px 1px 3px 1px rgba(0, 0, 0, 0.15);\n",
              "      filter: drop-shadow(0px 1px 2px rgba(0, 0, 0, 0.3));\n",
              "      fill: #FFFFFF;\n",
              "    }\n",
              "  </style>\n",
              "\n",
              "      <script>\n",
              "        const buttonEl =\n",
              "          document.querySelector('#df-7bcaa550-75db-4837-9941-565ce6324889 button.colab-df-convert');\n",
              "        buttonEl.style.display =\n",
              "          google.colab.kernel.accessAllowed ? 'block' : 'none';\n",
              "\n",
              "        async function convertToInteractive(key) {\n",
              "          const element = document.querySelector('#df-7bcaa550-75db-4837-9941-565ce6324889');\n",
              "          const dataTable =\n",
              "            await google.colab.kernel.invokeFunction('convertToInteractive',\n",
              "                                                     [key], {});\n",
              "          if (!dataTable) return;\n",
              "\n",
              "          const docLinkHtml = 'Like what you see? Visit the ' +\n",
              "            '<a target=\"_blank\" href=https://colab.research.google.com/notebooks/data_table.ipynb>data table notebook</a>'\n",
              "            + ' to learn more about interactive tables.';\n",
              "          element.innerHTML = '';\n",
              "          dataTable['output_type'] = 'display_data';\n",
              "          await google.colab.output.renderOutput(dataTable, element);\n",
              "          const docLink = document.createElement('div');\n",
              "          docLink.innerHTML = docLinkHtml;\n",
              "          element.appendChild(docLink);\n",
              "        }\n",
              "      </script>\n",
              "    </div>\n",
              "  </div>\n",
              "  "
            ]
          },
          "metadata": {},
          "execution_count": 823
        }
      ]
    },
    {
      "cell_type": "code",
      "source": [
        "# 모델 성능 유추를 위한 검증 데이터셋 나누기\n",
        "X_train_p, X_test_p, y_train_p, y_test_p = train_test_split(X_train_p, y_train_p, test_size=0.2, random_state = 0)\n",
        "X_train_d, X_test_d, y_train_d, y_test_d = train_test_split(X_train_d, y_train_d, test_size=0.2, random_state = 0)\n",
        "\n",
        "X_train_p, X_val_p, y_train_p, y_val_p = train_test_split(X_train_p, y_train_p, test_size=0.2, random_state = 0)\n",
        "X_train_d, X_val_d, y_train_d, y_val_d = train_test_split(X_train_d, y_train_d, test_size=0.2, random_state = 0)"
      ],
      "metadata": {
        "id": "-U3FvLjtGx9S"
      },
      "execution_count": null,
      "outputs": []
    },
    {
      "cell_type": "code",
      "source": [
        "# 데이터셋 크기 확인 (train의 features, train의 target의 row 수가 일치해야 한다.)\n",
        "X_train_p.shape, y_train_p.shape, X_val_p.shape, y_val_p.shape, X_test_p.shape, y_test_p.shape, X_train_d.shape, y_train_d.shape, X_val_d.shape, y_val_d.shape, X_test_d.shape, y_test_d.shape "
      ],
      "metadata": {
        "colab": {
          "base_uri": "https://localhost:8080/"
        },
        "id": "MXrWHDbNHE9Y",
        "outputId": "26e9a2be-4a75-4382-97f2-d345cf5dfd36"
      },
      "execution_count": null,
      "outputs": [
        {
          "output_type": "execute_result",
          "data": {
            "text/plain": [
              "((3427, 9),\n",
              " (3427,),\n",
              " (857, 9),\n",
              " (857,),\n",
              " (1071, 9),\n",
              " (1071,),\n",
              " (3427, 9),\n",
              " (3427,),\n",
              " (857, 9),\n",
              " (857,),\n",
              " (1071, 9),\n",
              " (1071,))"
            ]
          },
          "metadata": {},
          "execution_count": 825
        }
      ]
    },
    {
      "cell_type": "code",
      "source": [
        "encoder = OrdinalEncoder()\n",
        "X_train_p_encoded = encoder.fit_transform(X_train_p)  \n",
        "X_val_p_encoded = encoder.transform(X_val_p)  \n",
        "\n",
        "model = XGBClassifier(\n",
        "    n_estimators=1000,  \n",
        "    random_state=2,\n",
        "    n_jobs=-1,\n",
        "    max_depth=7,\n",
        "    learning_rate=0.2\n",
        ")\n",
        "\n",
        "watchlist = [(X_train_p_encoded, y_train_p), (X_val_p_encoded, y_val_p)]\n",
        "\n",
        "model.fit(\n",
        "    X_train_p_encoded,\n",
        "    y_train_p,\n",
        "    eval_set=watchlist,\n",
        "    early_stopping_rounds=200 # Best iteration : 40 \n",
        ")"
      ],
      "metadata": {
        "colab": {
          "base_uri": "https://localhost:8080/"
        },
        "id": "JU7HsKIWHwMI",
        "outputId": "e1b48a9e-d85a-4611-fa0b-e76f3132cfc9"
      },
      "execution_count": null,
      "outputs": [
        {
          "output_type": "stream",
          "name": "stdout",
          "text": [
            "[0]\tvalidation_0-error:0.416107\tvalidation_1-error:0.516919\n",
            "Multiple eval metrics have been passed: 'validation_1-error' will be used for early stopping.\n",
            "\n",
            "Will train until validation_1-error hasn't improved in 200 rounds.\n",
            "[1]\tvalidation_0-error:0.375547\tvalidation_1-error:0.507585\n",
            "[2]\tvalidation_0-error:0.360957\tvalidation_1-error:0.506418\n",
            "[3]\tvalidation_0-error:0.355413\tvalidation_1-error:0.504084\n",
            "[4]\tvalidation_0-error:0.344033\tvalidation_1-error:0.499417\n",
            "[5]\tvalidation_0-error:0.332361\tvalidation_1-error:0.502917\n",
            "[6]\tvalidation_0-error:0.316895\tvalidation_1-error:0.514586\n",
            "[7]\tvalidation_0-error:0.31281\tvalidation_1-error:0.52042\n",
            "[8]\tvalidation_0-error:0.307849\tvalidation_1-error:0.523921\n",
            "[9]\tvalidation_0-error:0.297053\tvalidation_1-error:0.522754\n",
            "[10]\tvalidation_0-error:0.291217\tvalidation_1-error:0.521587\n",
            "[11]\tvalidation_0-error:0.292092\tvalidation_1-error:0.521587\n",
            "[12]\tvalidation_0-error:0.291509\tvalidation_1-error:0.52042\n",
            "[13]\tvalidation_0-error:0.287423\tvalidation_1-error:0.522754\n",
            "[14]\tvalidation_0-error:0.287423\tvalidation_1-error:0.522754\n",
            "[15]\tvalidation_0-error:0.283338\tvalidation_1-error:0.519253\n",
            "[16]\tvalidation_0-error:0.26087\tvalidation_1-error:0.518086\n",
            "[17]\tvalidation_0-error:0.257076\tvalidation_1-error:0.515753\n",
            "[18]\tvalidation_0-error:0.254742\tvalidation_1-error:0.512252\n",
            "[19]\tvalidation_0-error:0.250365\tvalidation_1-error:0.513419\n",
            "[20]\tvalidation_0-error:0.248614\tvalidation_1-error:0.511085\n",
            "[21]\tvalidation_0-error:0.247155\tvalidation_1-error:0.509918\n",
            "[22]\tvalidation_0-error:0.244237\tvalidation_1-error:0.508751\n",
            "[23]\tvalidation_0-error:0.236067\tvalidation_1-error:0.502917\n",
            "[24]\tvalidation_0-error:0.232565\tvalidation_1-error:0.500583\n",
            "[25]\tvalidation_0-error:0.222352\tvalidation_1-error:0.511085\n",
            "[26]\tvalidation_0-error:0.221477\tvalidation_1-error:0.511085\n",
            "[27]\tvalidation_0-error:0.220018\tvalidation_1-error:0.512252\n",
            "[28]\tvalidation_0-error:0.218559\tvalidation_1-error:0.509918\n",
            "[29]\tvalidation_0-error:0.217683\tvalidation_1-error:0.513419\n",
            "[30]\tvalidation_0-error:0.217391\tvalidation_1-error:0.513419\n",
            "[31]\tvalidation_0-error:0.211555\tvalidation_1-error:0.511085\n",
            "[32]\tvalidation_0-error:0.197549\tvalidation_1-error:0.512252\n",
            "[33]\tvalidation_0-error:0.199008\tvalidation_1-error:0.512252\n",
            "[34]\tvalidation_0-error:0.192296\tvalidation_1-error:0.519253\n",
            "[35]\tvalidation_0-error:0.190837\tvalidation_1-error:0.516919\n",
            "[36]\tvalidation_0-error:0.188503\tvalidation_1-error:0.518086\n",
            "[37]\tvalidation_0-error:0.1815\tvalidation_1-error:0.515753\n",
            "[38]\tvalidation_0-error:0.171287\tvalidation_1-error:0.515753\n",
            "[39]\tvalidation_0-error:0.164575\tvalidation_1-error:0.512252\n",
            "[40]\tvalidation_0-error:0.161074\tvalidation_1-error:0.512252\n",
            "[41]\tvalidation_0-error:0.156405\tvalidation_1-error:0.507585\n",
            "[42]\tvalidation_0-error:0.151153\tvalidation_1-error:0.505251\n",
            "[43]\tvalidation_0-error:0.151153\tvalidation_1-error:0.504084\n",
            "[44]\tvalidation_0-error:0.148818\tvalidation_1-error:0.505251\n",
            "[45]\tvalidation_0-error:0.146776\tvalidation_1-error:0.507585\n",
            "[46]\tvalidation_0-error:0.143566\tvalidation_1-error:0.514586\n",
            "[47]\tvalidation_0-error:0.143274\tvalidation_1-error:0.514586\n",
            "[48]\tvalidation_0-error:0.139481\tvalidation_1-error:0.513419\n",
            "[49]\tvalidation_0-error:0.138897\tvalidation_1-error:0.515753\n",
            "[50]\tvalidation_0-error:0.138605\tvalidation_1-error:0.512252\n",
            "[51]\tvalidation_0-error:0.138022\tvalidation_1-error:0.513419\n",
            "[52]\tvalidation_0-error:0.138605\tvalidation_1-error:0.514586\n",
            "[53]\tvalidation_0-error:0.137146\tvalidation_1-error:0.514586\n",
            "[54]\tvalidation_0-error:0.130727\tvalidation_1-error:0.522754\n",
            "[55]\tvalidation_0-error:0.129559\tvalidation_1-error:0.522754\n",
            "[56]\tvalidation_0-error:0.129268\tvalidation_1-error:0.522754\n",
            "[57]\tvalidation_0-error:0.123723\tvalidation_1-error:0.523921\n",
            "[58]\tvalidation_0-error:0.122556\tvalidation_1-error:0.525088\n",
            "[59]\tvalidation_0-error:0.122264\tvalidation_1-error:0.526254\n",
            "[60]\tvalidation_0-error:0.121681\tvalidation_1-error:0.529755\n",
            "[61]\tvalidation_0-error:0.118471\tvalidation_1-error:0.528588\n",
            "[62]\tvalidation_0-error:0.114969\tvalidation_1-error:0.530922\n",
            "[63]\tvalidation_0-error:0.114969\tvalidation_1-error:0.529755\n",
            "[64]\tvalidation_0-error:0.114678\tvalidation_1-error:0.529755\n",
            "[65]\tvalidation_0-error:0.112051\tvalidation_1-error:0.533256\n",
            "[66]\tvalidation_0-error:0.107091\tvalidation_1-error:0.527421\n",
            "[67]\tvalidation_0-error:0.106215\tvalidation_1-error:0.529755\n",
            "[68]\tvalidation_0-error:0.101255\tvalidation_1-error:0.526254\n",
            "[69]\tvalidation_0-error:0.100379\tvalidation_1-error:0.527421\n",
            "[70]\tvalidation_0-error:0.09717\tvalidation_1-error:0.529755\n",
            "[71]\tvalidation_0-error:0.096294\tvalidation_1-error:0.534422\n",
            "[72]\tvalidation_0-error:0.095711\tvalidation_1-error:0.533256\n",
            "[73]\tvalidation_0-error:0.091334\tvalidation_1-error:0.530922\n",
            "[74]\tvalidation_0-error:0.089875\tvalidation_1-error:0.532089\n",
            "[75]\tvalidation_0-error:0.090458\tvalidation_1-error:0.530922\n",
            "[76]\tvalidation_0-error:0.085789\tvalidation_1-error:0.521587\n",
            "[77]\tvalidation_0-error:0.081996\tvalidation_1-error:0.516919\n",
            "[78]\tvalidation_0-error:0.078786\tvalidation_1-error:0.514586\n",
            "[79]\tvalidation_0-error:0.077911\tvalidation_1-error:0.512252\n",
            "[80]\tvalidation_0-error:0.077619\tvalidation_1-error:0.512252\n",
            "[81]\tvalidation_0-error:0.078786\tvalidation_1-error:0.512252\n",
            "[82]\tvalidation_0-error:0.076744\tvalidation_1-error:0.507585\n",
            "[83]\tvalidation_0-error:0.077035\tvalidation_1-error:0.507585\n",
            "[84]\tvalidation_0-error:0.07616\tvalidation_1-error:0.507585\n",
            "[85]\tvalidation_0-error:0.075285\tvalidation_1-error:0.506418\n",
            "[86]\tvalidation_0-error:0.074701\tvalidation_1-error:0.505251\n",
            "[87]\tvalidation_0-error:0.074409\tvalidation_1-error:0.506418\n",
            "[88]\tvalidation_0-error:0.074409\tvalidation_1-error:0.507585\n",
            "[89]\tvalidation_0-error:0.074701\tvalidation_1-error:0.506418\n",
            "[90]\tvalidation_0-error:0.074701\tvalidation_1-error:0.506418\n",
            "[91]\tvalidation_0-error:0.074117\tvalidation_1-error:0.506418\n",
            "[92]\tvalidation_0-error:0.073534\tvalidation_1-error:0.506418\n",
            "[93]\tvalidation_0-error:0.071199\tvalidation_1-error:0.508751\n",
            "[94]\tvalidation_0-error:0.071199\tvalidation_1-error:0.509918\n",
            "[95]\tvalidation_0-error:0.070032\tvalidation_1-error:0.512252\n",
            "[96]\tvalidation_0-error:0.068573\tvalidation_1-error:0.514586\n",
            "[97]\tvalidation_0-error:0.065071\tvalidation_1-error:0.513419\n",
            "[98]\tvalidation_0-error:0.063029\tvalidation_1-error:0.508751\n",
            "[99]\tvalidation_0-error:0.061862\tvalidation_1-error:0.515753\n",
            "[100]\tvalidation_0-error:0.062153\tvalidation_1-error:0.514586\n",
            "[101]\tvalidation_0-error:0.060111\tvalidation_1-error:0.511085\n",
            "[102]\tvalidation_0-error:0.060694\tvalidation_1-error:0.511085\n",
            "[103]\tvalidation_0-error:0.060403\tvalidation_1-error:0.509918\n",
            "[104]\tvalidation_0-error:0.060111\tvalidation_1-error:0.511085\n",
            "[105]\tvalidation_0-error:0.060111\tvalidation_1-error:0.509918\n",
            "[106]\tvalidation_0-error:0.059527\tvalidation_1-error:0.509918\n",
            "[107]\tvalidation_0-error:0.059527\tvalidation_1-error:0.509918\n",
            "[108]\tvalidation_0-error:0.059819\tvalidation_1-error:0.508751\n",
            "[109]\tvalidation_0-error:0.058652\tvalidation_1-error:0.511085\n",
            "[110]\tvalidation_0-error:0.05836\tvalidation_1-error:0.508751\n",
            "[111]\tvalidation_0-error:0.058068\tvalidation_1-error:0.507585\n",
            "[112]\tvalidation_0-error:0.058068\tvalidation_1-error:0.508751\n",
            "[113]\tvalidation_0-error:0.055442\tvalidation_1-error:0.519253\n",
            "[114]\tvalidation_0-error:0.054275\tvalidation_1-error:0.52042\n",
            "[115]\tvalidation_0-error:0.054567\tvalidation_1-error:0.52042\n",
            "[116]\tvalidation_0-error:0.054275\tvalidation_1-error:0.521587\n",
            "[117]\tvalidation_0-error:0.053983\tvalidation_1-error:0.522754\n",
            "[118]\tvalidation_0-error:0.053983\tvalidation_1-error:0.522754\n",
            "[119]\tvalidation_0-error:0.053108\tvalidation_1-error:0.518086\n",
            "[120]\tvalidation_0-error:0.053108\tvalidation_1-error:0.516919\n",
            "[121]\tvalidation_0-error:0.053108\tvalidation_1-error:0.518086\n",
            "[122]\tvalidation_0-error:0.053108\tvalidation_1-error:0.519253\n",
            "[123]\tvalidation_0-error:0.053108\tvalidation_1-error:0.519253\n",
            "[124]\tvalidation_0-error:0.053108\tvalidation_1-error:0.519253\n",
            "[125]\tvalidation_0-error:0.053108\tvalidation_1-error:0.519253\n",
            "[126]\tvalidation_0-error:0.053108\tvalidation_1-error:0.52042\n",
            "[127]\tvalidation_0-error:0.050481\tvalidation_1-error:0.523921\n",
            "[128]\tvalidation_0-error:0.048147\tvalidation_1-error:0.523921\n",
            "[129]\tvalidation_0-error:0.047563\tvalidation_1-error:0.522754\n",
            "[130]\tvalidation_0-error:0.04698\tvalidation_1-error:0.519253\n",
            "[131]\tvalidation_0-error:0.045813\tvalidation_1-error:0.522754\n",
            "[132]\tvalidation_0-error:0.045521\tvalidation_1-error:0.52042\n",
            "[133]\tvalidation_0-error:0.045229\tvalidation_1-error:0.52042\n",
            "[134]\tvalidation_0-error:0.043186\tvalidation_1-error:0.521587\n",
            "[135]\tvalidation_0-error:0.042603\tvalidation_1-error:0.525088\n",
            "[136]\tvalidation_0-error:0.038518\tvalidation_1-error:0.522754\n",
            "[137]\tvalidation_0-error:0.037934\tvalidation_1-error:0.528588\n",
            "[138]\tvalidation_0-error:0.037934\tvalidation_1-error:0.529755\n",
            "[139]\tvalidation_0-error:0.037934\tvalidation_1-error:0.529755\n",
            "[140]\tvalidation_0-error:0.03735\tvalidation_1-error:0.533256\n",
            "[141]\tvalidation_0-error:0.036767\tvalidation_1-error:0.533256\n",
            "[142]\tvalidation_0-error:0.035891\tvalidation_1-error:0.530922\n",
            "[143]\tvalidation_0-error:0.035016\tvalidation_1-error:0.530922\n",
            "[144]\tvalidation_0-error:0.0356\tvalidation_1-error:0.532089\n",
            "[145]\tvalidation_0-error:0.032682\tvalidation_1-error:0.529755\n",
            "[146]\tvalidation_0-error:0.032098\tvalidation_1-error:0.527421\n",
            "[147]\tvalidation_0-error:0.029764\tvalidation_1-error:0.525088\n",
            "[148]\tvalidation_0-error:0.02918\tvalidation_1-error:0.526254\n",
            "[149]\tvalidation_0-error:0.028305\tvalidation_1-error:0.532089\n",
            "[150]\tvalidation_0-error:0.028305\tvalidation_1-error:0.533256\n",
            "[151]\tvalidation_0-error:0.028596\tvalidation_1-error:0.533256\n",
            "[152]\tvalidation_0-error:0.027721\tvalidation_1-error:0.536756\n",
            "[153]\tvalidation_0-error:0.027429\tvalidation_1-error:0.536756\n",
            "[154]\tvalidation_0-error:0.027429\tvalidation_1-error:0.536756\n",
            "[155]\tvalidation_0-error:0.027429\tvalidation_1-error:0.537923\n",
            "[156]\tvalidation_0-error:0.027137\tvalidation_1-error:0.53909\n",
            "[157]\tvalidation_0-error:0.027137\tvalidation_1-error:0.53909\n",
            "[158]\tvalidation_0-error:0.026846\tvalidation_1-error:0.537923\n",
            "[159]\tvalidation_0-error:0.026846\tvalidation_1-error:0.53909\n",
            "[160]\tvalidation_0-error:0.026554\tvalidation_1-error:0.53909\n",
            "[161]\tvalidation_0-error:0.026554\tvalidation_1-error:0.537923\n",
            "[162]\tvalidation_0-error:0.026262\tvalidation_1-error:0.536756\n",
            "[163]\tvalidation_0-error:0.026262\tvalidation_1-error:0.537923\n",
            "[164]\tvalidation_0-error:0.026262\tvalidation_1-error:0.53909\n",
            "[165]\tvalidation_0-error:0.026554\tvalidation_1-error:0.540257\n",
            "[166]\tvalidation_0-error:0.025678\tvalidation_1-error:0.530922\n",
            "[167]\tvalidation_0-error:0.025678\tvalidation_1-error:0.533256\n",
            "[168]\tvalidation_0-error:0.024219\tvalidation_1-error:0.534422\n",
            "[169]\tvalidation_0-error:0.024219\tvalidation_1-error:0.533256\n",
            "[170]\tvalidation_0-error:0.023928\tvalidation_1-error:0.533256\n",
            "[171]\tvalidation_0-error:0.023052\tvalidation_1-error:0.534422\n",
            "[172]\tvalidation_0-error:0.023052\tvalidation_1-error:0.534422\n",
            "[173]\tvalidation_0-error:0.02276\tvalidation_1-error:0.533256\n",
            "[174]\tvalidation_0-error:0.021885\tvalidation_1-error:0.530922\n",
            "[175]\tvalidation_0-error:0.021885\tvalidation_1-error:0.535589\n",
            "[176]\tvalidation_0-error:0.020718\tvalidation_1-error:0.536756\n",
            "[177]\tvalidation_0-error:0.020718\tvalidation_1-error:0.537923\n",
            "[178]\tvalidation_0-error:0.020718\tvalidation_1-error:0.536756\n",
            "[179]\tvalidation_0-error:0.020426\tvalidation_1-error:0.535589\n",
            "[180]\tvalidation_0-error:0.020426\tvalidation_1-error:0.535589\n",
            "[181]\tvalidation_0-error:0.020718\tvalidation_1-error:0.535589\n",
            "[182]\tvalidation_0-error:0.020718\tvalidation_1-error:0.535589\n",
            "[183]\tvalidation_0-error:0.02101\tvalidation_1-error:0.535589\n",
            "[184]\tvalidation_0-error:0.021301\tvalidation_1-error:0.536756\n",
            "[185]\tvalidation_0-error:0.020718\tvalidation_1-error:0.53909\n",
            "[186]\tvalidation_0-error:0.020718\tvalidation_1-error:0.537923\n",
            "[187]\tvalidation_0-error:0.020718\tvalidation_1-error:0.537923\n",
            "[188]\tvalidation_0-error:0.019842\tvalidation_1-error:0.533256\n",
            "[189]\tvalidation_0-error:0.019551\tvalidation_1-error:0.534422\n",
            "[190]\tvalidation_0-error:0.019259\tvalidation_1-error:0.530922\n",
            "[191]\tvalidation_0-error:0.018967\tvalidation_1-error:0.530922\n",
            "[192]\tvalidation_0-error:0.018967\tvalidation_1-error:0.532089\n",
            "[193]\tvalidation_0-error:0.018092\tvalidation_1-error:0.533256\n",
            "[194]\tvalidation_0-error:0.018383\tvalidation_1-error:0.532089\n",
            "[195]\tvalidation_0-error:0.017508\tvalidation_1-error:0.528588\n",
            "[196]\tvalidation_0-error:0.017508\tvalidation_1-error:0.528588\n",
            "[197]\tvalidation_0-error:0.017508\tvalidation_1-error:0.528588\n",
            "[198]\tvalidation_0-error:0.016924\tvalidation_1-error:0.532089\n",
            "[199]\tvalidation_0-error:0.016633\tvalidation_1-error:0.532089\n",
            "[200]\tvalidation_0-error:0.016341\tvalidation_1-error:0.532089\n",
            "[201]\tvalidation_0-error:0.016049\tvalidation_1-error:0.529755\n",
            "[202]\tvalidation_0-error:0.016049\tvalidation_1-error:0.529755\n",
            "[203]\tvalidation_0-error:0.016049\tvalidation_1-error:0.529755\n",
            "[204]\tvalidation_0-error:0.015757\tvalidation_1-error:0.528588\n",
            "Stopping. Best iteration:\n",
            "[4]\tvalidation_0-error:0.344033\tvalidation_1-error:0.499417\n",
            "\n"
          ]
        },
        {
          "output_type": "execute_result",
          "data": {
            "text/plain": [
              "XGBClassifier(learning_rate=0.2, max_depth=7, n_estimators=1000, n_jobs=-1,\n",
              "              random_state=2)"
            ]
          },
          "metadata": {},
          "execution_count": 827
        }
      ]
    },
    {
      "cell_type": "code",
      "source": [
        "model.best_iteration"
      ],
      "metadata": {
        "colab": {
          "base_uri": "https://localhost:8080/"
        },
        "id": "z0HzLYWCL0rJ",
        "outputId": "5cf59ed3-d74b-450d-c0a2-59f63249e4c5"
      },
      "execution_count": null,
      "outputs": [
        {
          "output_type": "execute_result",
          "data": {
            "text/plain": [
              "4"
            ]
          },
          "metadata": {},
          "execution_count": 828
        }
      ]
    },
    {
      "cell_type": "code",
      "source": [
        "y_pred_p = model.predict(X_val_p_encoded)\n",
        "print(\"검증 f1\", f1_score(y_val_p, y_pred_p))"
      ],
      "metadata": {
        "colab": {
          "base_uri": "https://localhost:8080/"
        },
        "id": "Ua_Jn3iPL8Wm",
        "outputId": "60d097ca-5b66-43ed-c7df-02f5d096dc44"
      },
      "execution_count": null,
      "outputs": [
        {
          "output_type": "stream",
          "name": "stdout",
          "text": [
            "검증 f1 0.5057736720554272\n"
          ]
        }
      ]
    }
  ]
}